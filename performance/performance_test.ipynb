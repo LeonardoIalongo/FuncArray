{
 "cells": [
  {
   "cell_type": "code",
   "execution_count": 1,
   "id": "78745e6f",
   "metadata": {},
   "outputs": [],
   "source": [
    "import numpy as np\n",
    "from numba import njit\n",
    "import func_array as fa\n",
    "\n",
    "def numpy_ref(N, x, y):\n",
    "    \"\"\" Numpy reference for initializing and summing over all elements. \"\"\"\n",
    "    a = np.outer(x[:N], y[:N])\n",
    "    return a.sum()\n",
    "\n",
    "@njit\n",
    "def fun(i,j, x, y):\n",
    "    return x[i]*y[j]\n",
    "\n",
    "def class_test(N, x, y):\n",
    "    a = fa.array((N, N), fun, x[:N], y[:N])\n",
    "    return a.sum()"
   ]
  },
  {
   "cell_type": "code",
   "execution_count": 2,
   "id": "25ac5b5a",
   "metadata": {},
   "outputs": [],
   "source": [
    "from timeit import repeat\n",
    "from numpy.random import default_rng\n",
    "\n",
    "N = [10, 100, 1000, 10000]\n",
    "rnd = default_rng()\n",
    "x = rnd.random(N[-1], dtype='f8')\n",
    "y = rnd.random(N[-1], dtype='f8')"
   ]
  },
  {
   "cell_type": "code",
   "execution_count": 3,
   "id": "d2382865",
   "metadata": {},
   "outputs": [],
   "source": [
    "# Ensure same result\n",
    "for n in N:\n",
    "    assert np.abs((numpy_ref(n, x, y) - class_test(n, x, y)) / numpy_ref(n, x, y)) < 1e-9"
   ]
  },
  {
   "cell_type": "code",
   "execution_count": 4,
   "id": "8ac1fbeb",
   "metadata": {},
   "outputs": [],
   "source": [
    "# Numpy reference \n",
    "np_ref = [None]*len(N)\n",
    "for i, n in enumerate(N):\n",
    "    np_ref[i] = np.array(repeat(\"numpy_ref({}, x, y)\".format(n), \n",
    "                                setup=\"from __main__ import numpy_ref, x, y\",\n",
    "                                number=5, repeat=5)) / 5"
   ]
  },
  {
   "cell_type": "code",
   "execution_count": 5,
   "id": "513586cc",
   "metadata": {},
   "outputs": [],
   "source": [
    "# With function array\n",
    "func = [None]*len(N)\n",
    "for i, n in enumerate(N):\n",
    "    func[i] = np.array(repeat(\"class_test({}, x, y)\".format(n), \n",
    "                              setup=\"from __main__ import class_test, x, y\",\n",
    "                              number=5, repeat=5)) / 5"
   ]
  },
  {
   "cell_type": "code",
   "execution_count": 6,
   "id": "29770ca6",
   "metadata": {},
   "outputs": [
    {
     "data": {
      "image/png": "[encoded data removed]",
      "text/plain": [
       "<Figure size 640x480 with 1 Axes>"
      ]
     },
     "metadata": {},
     "output_type": "display_data"
    }
   ],
   "source": [
    "import matplotlib.pyplot as plt\n",
    "\n",
    "fig, ax = plt.subplots()\n",
    "ax.scatter(N, np.mean(np_ref, axis=1), marker='o', facecolor='None', edgecolor='r', label='numpy')\n",
    "ax.scatter(N, np.mean(func, axis=1), marker='o', facecolor='None', edgecolor='g', label='funcarray')\n",
    "ax.set_yscale('log')\n",
    "ax.set_xscale('log')\n",
    "ax.set_xlabel('n')\n",
    "ax.set_ylabel('t')\n",
    "plt.legend()\n",
    "\n",
    "plt.show()"
   ]
  }
 ],
 "metadata": {
  "kernelspec": {
   "display_name": "pmatrix",
   "language": "python",
   "name": "pmatrix"
  },
  "language_info": {
   "codemirror_mode": {
    "name": "ipython",
    "version": 3
   },
   "file_extension": ".py",
   "mimetype": "text/x-python",
   "name": "python",
   "nbconvert_exporter": "python",
   "pygments_lexer": "ipython3",
   "version": "3.8.13"
  }
 },
 "nbformat": 4,
 "nbformat_minor": 5
}
