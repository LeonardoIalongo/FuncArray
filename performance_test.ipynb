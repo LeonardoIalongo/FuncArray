{
 "cells": [
  {
   "cell_type": "code",
   "execution_count": 1,
   "id": "1456459d",
   "metadata": {},
   "outputs": [],
   "source": [
    "import numpy as np\n",
    "from numba import njit\n",
    "\n",
    "\n",
    "def numpy_ref(N, x, y):\n",
    "    \"\"\" Numpy reference for initializing and summing over all elements. \"\"\"\n",
    "    a = np.outer(x, y)\n",
    "    return a.sum()\n",
    "\n",
    "@njit\n",
    "def fun(i,j, x, y):\n",
    "    return x[i]*y[j]\n",
    "\n",
    "@njit\n",
    "def funct_eval(N, fun, x, y):\n",
    "    res = 0\n",
    "    for i in range(N):\n",
    "        for j in range(N):\n",
    "            res += fun(i, j, x, y)\n",
    "    return res\n",
    "\n",
    "@njit\n",
    "def loop_eval(N, x, y):\n",
    "    res = 0\n",
    "    for i in range(N):\n",
    "        for j in range(N):\n",
    "            res += x[i]*y[j]\n",
    "    return res\n"
   ]
  },
  {
   "cell_type": "code",
   "execution_count": 2,
   "id": "94ce3a5f",
   "metadata": {},
   "outputs": [],
   "source": [
    "from timeit import repeat\n",
    "from numpy.random import default_rng\n",
    "\n",
    "N = [10, 100, 1000, 10000, 20000]\n",
    "p = 0.5\n",
    "rnd = default_rng()\n",
    "x = rnd.random(N[-1])\n",
    "y = rnd.random(N[-1])"
   ]
  },
  {
   "cell_type": "code",
   "execution_count": 3,
   "id": "b346b07c",
   "metadata": {},
   "outputs": [],
   "source": [
    "# Numpy reference \n",
    "np_ref = [None]*len(N)\n",
    "for i, n in enumerate(N):\n",
    "    np_ref[i] = np.array(repeat(\"numpy_ref({}, x, y)\".format(n), \n",
    "                                setup=\"from __main__ import numpy_ref, x, y\",\n",
    "                                number=5, repeat=5)) / 5"
   ]
  },
  {
   "cell_type": "code",
   "execution_count": 4,
   "id": "989a8ce2",
   "metadata": {},
   "outputs": [],
   "source": [
    "# No function call\n",
    "loop = [None]*len(N)\n",
    "for i, n in enumerate(N):\n",
    "    loop[i] = np.array(repeat(\"loop_eval({}, x, y)\".format(n), \n",
    "                              setup=\"from __main__ import loop_eval, x, y\",\n",
    "                              number=7, repeat=5)) / 7"
   ]
  },
  {
   "cell_type": "code",
   "execution_count": 5,
   "id": "ad4987da",
   "metadata": {},
   "outputs": [],
   "source": [
    "# With function call\n",
    "func = [None]*len(N)\n",
    "for i, n in enumerate(N):\n",
    "    func[i] = np.array(repeat(\"funct_eval({}, fun, x, y)\".format(n), \n",
    "                              setup=\"from __main__ import funct_eval, fun, x, y\",\n",
    "                              number=7, repeat=5)) / 7"
   ]
  },
  {
   "cell_type": "code",
   "execution_count": 6,
   "id": "ef218e04",
   "metadata": {},
   "outputs": [
    {
     "data": {
      "image/png": "[encoded data removed]",
      "text/plain": [
       "<Figure size 640x480 with 1 Axes>"
      ]
     },
     "metadata": {},
     "output_type": "display_data"
    }
   ],
   "source": [
    "import matplotlib.pyplot as plt\n",
    "\n",
    "fig, ax = plt.subplots()\n",
    "ax.scatter(N, np.mean(np_ref, axis=1), marker='o', facecolor='None', edgecolor='r', label='numpy')\n",
    "ax.scatter(N, np.mean(loop, axis=1), marker='o', facecolor='None', edgecolor='g', label='nb_loop')\n",
    "ax.scatter(N, np.mean(func, axis=1), marker='o', facecolor='None', edgecolor='b', label='nb_fun')\n",
    "ax.set_yscale('log')\n",
    "ax.set_xscale('log')\n",
    "ax.set_xlabel('n')\n",
    "ax.set_ylabel('t')\n",
    "plt.legend()\n",
    "\n",
    "plt.show()"
   ]
  },
  {
   "cell_type": "code",
   "execution_count": null,
   "id": "ce872847",
   "metadata": {},
   "outputs": [],
   "source": []
  }
 ],
 "metadata": {
  "kernelspec": {
   "display_name": "pmatrix",
   "language": "python",
   "name": "pmatrix"
  },
  "language_info": {
   "codemirror_mode": {
    "name": "ipython",
    "version": 3
   },
   "file_extension": ".py",
   "mimetype": "text/x-python",
   "name": "python",
   "nbconvert_exporter": "python",
   "pygments_lexer": "ipython3",
   "version": "3.8.13"
  }
 },
 "nbformat": 4,
 "nbformat_minor": 5
}
