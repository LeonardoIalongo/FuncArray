{
 "cells": [
  {
   "cell_type": "code",
   "execution_count": 12,
   "id": "c8a5eddd",
   "metadata": {},
   "outputs": [],
   "source": [
    "import numpy as np\n",
    "from numba import njit\n",
    "from timeit import repeat\n",
    "\n",
    "N = [10, 100, 1000, 10000, 20000]\n",
    "p = 0.5\n",
    "\n",
    "def numpy_ref(N, p):\n",
    "    \"\"\" Numpy reference for initializing and summing over all elements. \"\"\"\n",
    "    a = np.empty((N, N), dtype='f8')\n",
    "    a[:,:] = p\n",
    "    return a.sum()\n",
    "\n",
    "@njit\n",
    "def fun(i,j, p):\n",
    "    return p\n",
    "\n",
    "@njit\n",
    "def funct_eval(N, fun, p):\n",
    "    x = 0\n",
    "    for i in range(N):\n",
    "        for j in range(N):\n",
    "            x += fun(i,j, p)\n",
    "    return x\n",
    "\n",
    "@njit\n",
    "def loop_eval(N, p):\n",
    "    x = 0\n",
    "    for i in range(N):\n",
    "        for j in range(N):\n",
    "            x += p\n",
    "    return x\n"
   ]
  },
  {
   "cell_type": "code",
   "execution_count": 13,
   "id": "b63c470f",
   "metadata": {},
   "outputs": [],
   "source": [
    "# Numpy reference \n",
    "np_ref = [None]*len(N)\n",
    "for i, n in enumerate(N):\n",
    "    np_ref[i] = np.array(repeat(\"numpy_ref({}, 0.5)\".format(n), \n",
    "                                setup=\"from __main__ import numpy_ref\",\n",
    "                                number=5, repeat=5)) / 5"
   ]
  },
  {
   "cell_type": "code",
   "execution_count": 14,
   "id": "9ed852fe",
   "metadata": {},
   "outputs": [],
   "source": [
    "# No function call\n",
    "loop = [None]*len(N)\n",
    "for i, n in enumerate(N):\n",
    "    loop[i] = np.array(repeat(\"loop_eval({}, 0.5)\".format(n), \n",
    "                              setup=\"from __main__ import loop_eval\",\n",
    "                              number=7, repeat=5)) / 7"
   ]
  },
  {
   "cell_type": "code",
   "execution_count": 15,
   "id": "70b88522",
   "metadata": {},
   "outputs": [],
   "source": [
    "# With function call\n",
    "func = [None]*len(N)\n",
    "for i, n in enumerate(N):\n",
    "    func[i] = np.array(repeat(\"funct_eval({}, fun, 0.5)\".format(n), \n",
    "                              setup=\"from __main__ import funct_eval, fun\",\n",
    "                              number=7, repeat=5)) / 7"
   ]
  },
  {
   "cell_type": "code",
   "execution_count": 24,
   "id": "65b6eaee",
   "metadata": {},
   "outputs": [
    {
     "data": {
      "image/png": "[encoded data removed]",
      "text/plain": [
       "<Figure size 640x480 with 1 Axes>"
      ]
     },
     "metadata": {},
     "output_type": "display_data"
    }
   ],
   "source": [
    "import matplotlib.pyplot as plt\n",
    "\n",
    "fig, ax = plt.subplots()\n",
    "ax.scatter(N, np.mean(np_ref, axis=1), marker='o', facecolor='None', edgecolor='r', label='numpy')\n",
    "ax.scatter(N, np.mean(loop, axis=1), marker='o', facecolor='None', edgecolor='g', label='nb_loop')\n",
    "ax.scatter(N, np.mean(func, axis=1), marker='o', facecolor='None', edgecolor='b', label='nb_fun')\n",
    "ax.set_yscale('log')\n",
    "ax.set_xscale('log')\n",
    "ax.set_xlabel('n')\n",
    "ax.set_ylabel('t')\n",
    "plt.legend()\n",
    "\n",
    "plt.show()"
   ]
  },
  {
   "cell_type": "code",
   "execution_count": null,
   "id": "ae64701f",
   "metadata": {},
   "outputs": [],
   "source": []
  }
 ],
 "metadata": {
  "kernelspec": {
   "display_name": "pmatrix",
   "language": "python",
   "name": "pmatrix"
  },
  "language_info": {
   "codemirror_mode": {
    "name": "ipython",
    "version": 3
   },
   "file_extension": ".py",
   "mimetype": "text/x-python",
   "name": "python",
   "nbconvert_exporter": "python",
   "pygments_lexer": "ipython3",
   "version": "3.8.13"
  }
 },
 "nbformat": 4,
 "nbformat_minor": 5
}
